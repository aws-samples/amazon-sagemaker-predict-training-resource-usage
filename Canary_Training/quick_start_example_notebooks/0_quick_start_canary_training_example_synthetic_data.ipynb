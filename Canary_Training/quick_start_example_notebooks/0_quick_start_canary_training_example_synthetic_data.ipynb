{
 "cells": [
  {
   "cell_type": "markdown",
   "id": "infinite-string",
   "metadata": {},
   "source": [
    "# Predict Training Time and SageMaker Training Instance RAM and CPU resource consumption for Synthetic Data\n",
    "\n",
    "This notebook walks through how you can use the `canary_training` library to generate projections of training time, RAM, and CPU usage (collectivley refered to here as \"resource consumption\").\n",
    "\n",
    "To briefly summarize, the canary_training library works by creating many small training jobs on small percentages of the data (generally, 1,2 and 3 percent). Based on the statistics gathered (using the SageMaker Profiler) it then extrapolates the resource consumption for the complete training job.\n",
    "\n",
    "**Note** If you are using a SageMaker Notebook Instance, please use the `conda_python3` kernel. If you are using SageMaker Studio, please use `Python 3 (Data Science)` kernel."
   ]
  },
  {
   "cell_type": "code",
   "execution_count": 1,
   "id": "undefined-basic",
   "metadata": {},
   "outputs": [],
   "source": [
    "import sagemaker\n",
    "import pandas\n",
    "import logging\n",
    "logger = logging.getLogger('log')\n",
    "#set logs if not done already\n",
    "if not logger.handlers:\n",
    "    logger.setLevel(logging.INFO)\n",
    "    "
   ]
  },
  {
   "cell_type": "markdown",
   "id": "presidential-mouth",
   "metadata": {},
   "source": [
    "This notebook relies on the `canary_training` package, which will be used for generating extrapolations."
   ]
  },
  {
   "cell_type": "code",
   "execution_count": null,
   "id": "finnish-messaging",
   "metadata": {},
   "outputs": [],
   "source": [
    "#In SageMaker Studio\n",
    "#install from canary training library, which is in directory above.\n",
    "!pip install ../canary_training/ \n",
    "#in a SageMaker Notebook Instance\n",
    "#!pip install /home/ec2-user/SageMaker/canary_training/Canary_Training/canary_training #make sure this points to the canary_training directory\n",
    "from canary_training import *"
   ]
  },
  {
   "cell_type": "markdown",
   "id": "educational-organ",
   "metadata": {},
   "source": [
    "## Setup the Canary Job estimator and parameters\n",
    "Before using canary_training to generate predictions of resource consumption, we need to define a few things.\n",
    "\n",
    "1. A standard SageMaker estimator which defines our model.\n",
    "2. The instance(s) that we want to test.\n",
    "3. How many data points we want to make predictions based on.\n",
    "\n",
    "In this example, we will try to predict resource consumption (i.e. CPU, RAM, and training time) when training on a `ml.m5.2xlarge`.\n",
    "\n",
    "This uses a synthetic dataset that has 10 GB of data. This dataset had 20 columns, and the dataset was partitioned into 100 files each 100 MB.\n",
    "\n",
    "In this notebook, we use the SageMaker XGBoost built-in algorithm to generate an ML model.\n",
    "\n",
    "**Note**: The dataset used for the ML model is located here: `s3://aws-hcls-ml/public_assets_support_materials/canary_training_data/10_gb_20_cols/`."
   ]
  },
  {
   "cell_type": "markdown",
   "id": "controversial-damage",
   "metadata": {},
   "source": [
    "First we will set canary training configuration and options. We will be training on 1%,2% and 3% of the data in triplicate."
   ]
  },
  {
   "cell_type": "code",
   "execution_count": 3,
   "id": "short-drill",
   "metadata": {},
   "outputs": [],
   "source": [
    "import boto3\n",
    "import sagemaker\n",
    "from sagemaker import image_uris\n",
    "from sagemaker.session import Session\n",
    "from sagemaker.inputs import TrainingInput\n",
    "from time import  gmtime,strftime\n",
    "import random\n",
    "\n",
    "role = sagemaker.get_execution_role()\n",
    "region = boto3.Session().region_name\n",
    "sagemaker_session = sagemaker.Session()\n",
    "output_bucket = sagemaker_session.default_bucket()\n",
    "\n",
    "instance_types=[\"ml.m5.2xlarge\"]\n",
    "#instance_types=[\"ml.m5.4xlarge\",\"ml.m4.16xlarge\",\"ml.p3.2xlarge\"] #you can test multiple instances if you wish for canary training.\n",
    "\n",
    "#set canary training parameters and inputs\n",
    "output_s3_location=f\"s3://{output_bucket}/synthetic_output_data\"\n",
    "#create a random local temporary directory which will be copied to s3\n",
    "#If this exists already, you can just point to it already\n",
    "random_number=random.randint(10000000, 99999999)\n",
    "the_temp_dir=f\"canary-training-temp-dir-{str(random_number)}\" \n",
    "\n",
    "\n",
    "\n",
    "training_percentages=[.01,.01,.01,.02,.02,.02,.03,.03,.03] #train jobs in triplicate in order to increase statistical confidence"
   ]
  },
  {
   "cell_type": "code",
   "execution_count": 4,
   "id": "greatest-rings",
   "metadata": {},
   "outputs": [
    {
     "name": "stdout",
     "output_type": "stream",
     "text": [
      "sagemaker-us-east-1-111918798052\n"
     ]
    }
   ],
   "source": [
    "print(output_bucket)"
   ]
  },
  {
   "cell_type": "markdown",
   "id": "injured-adobe",
   "metadata": {},
   "source": [
    "Now we set standard SageMaker Estimator parameters. Because this is just a test, we use the same data for both the `training` and `validation` channel."
   ]
  },
  {
   "cell_type": "code",
   "execution_count": 7,
   "id": "engaged-navigator",
   "metadata": {},
   "outputs": [],
   "source": [
    "#location of input data for training make sure to exclude the final \"/\". \"taxi_yellow_trip_data_processed\" and not \"taxi_yellow_trip_data_processed/\"\n",
    "data_location='s3://aws-hcls-ml/public_assets_support_materials/canary_training_data/10_gb_20_cols' \n",
    "hyperparameters = {\n",
    "        \"max_depth\":\"5\",\n",
    "        \"eta\":\"0.2\",\n",
    "        \"gamma\":\"4\",\n",
    "        \"min_child_weight\":\"6\",\n",
    "        \"subsample\":\"0.7\",\n",
    "        \"objective\":\"reg:squarederror\",\n",
    "        \"num_round\":\"50\"}\n",
    "\n",
    "# set an output path where the trained model will be saved\n",
    "job_name = f\"canary-train-experiment-{strftime('%Y-%m-%d-%H-%M-%S', gmtime())}-{str(random.random())}\".replace(\".\",\"\")\n",
    "xgboost_container = sagemaker.image_uris.retrieve(\"xgboost\", region, \"1.2-1\")\n",
    "\n",
    "instance_type=\"None\"\n",
    "# construct a SageMaker estimator that calls the xgboost-container\n",
    "estimator = sagemaker.estimator.Estimator(image_uri=xgboost_container, \n",
    "                                          hyperparameters=hyperparameters,\n",
    "                                          role=role,\n",
    "                                          instance_count=1, \n",
    "                                          instance_type=instance_type, \n",
    "                                          volume_size=300,  #large dataset needs lots of disk space\n",
    "                                          output_path=f'{output_s3_location}/{the_temp_dir}')\n"
   ]
  },
  {
   "cell_type": "markdown",
   "id": "meaningful-catalyst",
   "metadata": {},
   "source": [
    "## Set up canary training jobs\n",
    "\n",
    "We will set up the canary training by:\n",
    "1. Creating samples of the underlying data\n",
    "2. Create manifest files that will be used for these smaller training jobs\n",
    "3. Copy the underlying manifest files to S3.\n",
    "4. Build estimators for SageMaker that will be used for these smaller training jobs."
   ]
  },
  {
   "cell_type": "code",
   "execution_count": 8,
   "id": "single-violation",
   "metadata": {},
   "outputs": [
    {
     "name": "stdout",
     "output_type": "stream",
     "text": [
      "aws s3 cp --recursive canary-training-temp-dir-86809935 s3://sagemaker-us-east-1-111918798052/synthetic_output_data/canary-training-temp-dir-86809935/\n"
     ]
    }
   ],
   "source": [
    "ct=CanaryTraining(data_location=data_location,output_s3_location=output_s3_location,\n",
    "                           the_temp_dir=the_temp_dir,instance_types=instance_types,estimator=estimator,training_percentages=training_percentages)\n",
    "\n",
    "ct.prepare_canary_training_data()"
   ]
  },
  {
   "cell_type": "markdown",
   "id": "opening-private",
   "metadata": {},
   "source": [
    "## Kick of canary training jobs\n",
    "Now that we have the list of estimators, let's kick off the canary training jobs.\n",
    "**Note**: By default, the canary_training library kicks off all of the jobs in parallel. For this example, this will mean that there will be 9 jobs on a `ml.m5.24xlarge` running. If your account does not support this  many jobs of that instance type (and you cannot request an increase), you can run each job serially.\n",
    "\n",
    "If you run the jobs in parallel, the total amount of time taken is about 15 minutes. If you run them one-after-another, it takes about 1.5 hours. "
   ]
  },
  {
   "cell_type": "code",
   "execution_count": 9,
   "id": "frank-topic",
   "metadata": {},
   "outputs": [
    {
     "name": "stdout",
     "output_type": "stream",
     "text": [
      "Done Submitting Jobs\n",
      "aws s3 cp canary-training-temp-dir-86809935/data_files/canary_training_job_list.csv s3://sagemaker-us-east-1-111918798052/synthetic_output_data/canary-training-temp-dir-86809935/data_files/canary_training_job_list.csv\n"
     ]
    }
   ],
   "source": [
    "#kick off in parallel\n",
    "ct.kick_off_canary_training_jobs(training_channels_list=['train','validation'],wait=False) #set wait equal to True if you cannot/do not want to run all jobs in paralell "
   ]
  },
  {
   "cell_type": "markdown",
   "id": "every-market",
   "metadata": {},
   "source": [
    "## Wait until the jobs are finished before continuing in the next section!!!\n",
    "Before continuing, please make sure that all the jobs kicked off for canary training are finished. You can see these jobs in the `SageMake Training` console. "
   ]
  },
  {
   "cell_type": "markdown",
   "id": "blocked-stake",
   "metadata": {},
   "source": [
    "## Gather Statistics and Perform Extrapolations\n",
    "\n",
    "In the next section we will gather statistics around the training jobs, and use them to **extrapolate** resource consumption for the entire training job. We will do three things:\n",
    "\n",
    "1. Extract relevant information from the training job and the SageMaker Profiler around CPU, RAM, and Training Time.\n",
    "2. Report the extrapolated CPU usage, RAM, and Training Time and cost.\n",
    "3. Report the raw CPU usage, RAM, and Training Time for the canary training jobs themselves. This will allow the user to make an informed decision based on this detailed information.\n",
    "\n",
    "(note that if a statistic is not relevant, it will have a value of -1 or -1.1)"
   ]
  },
  {
   "cell_type": "code",
   "execution_count": 10,
   "id": "passive-correlation",
   "metadata": {},
   "outputs": [],
   "source": [
    "#submitted_jobs_information\n",
    "predicted_resource_usage_df,raw_actual_resource_usage_df=ct.get_predicted_resource_consumption()"
   ]
  },
  {
   "cell_type": "code",
   "execution_count": 11,
   "id": "growing-plate",
   "metadata": {},
   "outputs": [
    {
     "data": {
      "text/html": [
       "<div>\n",
       "<style scoped>\n",
       "    .dataframe tbody tr th:only-of-type {\n",
       "        vertical-align: middle;\n",
       "    }\n",
       "\n",
       "    .dataframe tbody tr th {\n",
       "        vertical-align: top;\n",
       "    }\n",
       "\n",
       "    .dataframe thead th {\n",
       "        text-align: right;\n",
       "    }\n",
       "</style>\n",
       "<table border=\"1\" class=\"dataframe\">\n",
       "  <thead>\n",
       "    <tr style=\"text-align: right;\">\n",
       "      <th></th>\n",
       "      <th>Projected_CPUUtilization</th>\n",
       "      <th>Projected_MemoryUsedPercent</th>\n",
       "      <th>Projected_TrainingTimeInSeconds</th>\n",
       "      <th>Projected_GPUUtilization</th>\n",
       "      <th>Projected_GPUMemoryUtilization</th>\n",
       "      <th>price</th>\n",
       "      <th>Projected_TotalCost</th>\n",
       "    </tr>\n",
       "  </thead>\n",
       "  <tbody>\n",
       "    <tr>\n",
       "      <th>ml.m5.2xlarge</th>\n",
       "      <td>13.75</td>\n",
       "      <td>40.400609</td>\n",
       "      <td>1171.874732</td>\n",
       "      <td>-1.1</td>\n",
       "      <td>-1.1</td>\n",
       "      <td>0.000128056</td>\n",
       "      <td>0.150065</td>\n",
       "    </tr>\n",
       "  </tbody>\n",
       "</table>\n",
       "</div>"
      ],
      "text/plain": [
       "               Projected_CPUUtilization  Projected_MemoryUsedPercent  \\\n",
       "ml.m5.2xlarge                     13.75                    40.400609   \n",
       "\n",
       "               Projected_TrainingTimeInSeconds  Projected_GPUUtilization  \\\n",
       "ml.m5.2xlarge                      1171.874732                      -1.1   \n",
       "\n",
       "               Projected_GPUMemoryUtilization        price Projected_TotalCost  \n",
       "ml.m5.2xlarge                            -1.1  0.000128056            0.150065  "
      ]
     },
     "execution_count": 11,
     "metadata": {},
     "output_type": "execute_result"
    }
   ],
   "source": [
    "predicted_resource_usage_df.head()"
   ]
  },
  {
   "cell_type": "markdown",
   "id": "waiting-lambda",
   "metadata": {},
   "source": [
    "Now report the raw info from the canary jobs. \n",
    "\n",
    "\n",
    "**Note** Due to the stochastic nature of the canary jobs, the forecasts that you get may change between run to run."
   ]
  },
  {
   "cell_type": "markdown",
   "id": "compound-slovakia",
   "metadata": {},
   "source": [
    "## Inspect Canary Training Job Results\n",
    "You can inspect the underlying data for the canary training results. This is the data that was used to create the forcasts. While the forecasts may be useful, we strongly encourage data scientists to inspect the raw results as well. Note that CPUUtilization,MemoryUsedPercent,GPUUtilization,and GPUMemoryUtilization are all p99 values."
   ]
  },
  {
   "cell_type": "code",
   "execution_count": 12,
   "id": "single-detail",
   "metadata": {},
   "outputs": [
    {
     "data": {
      "text/html": [
       "<div>\n",
       "<style scoped>\n",
       "    .dataframe tbody tr th:only-of-type {\n",
       "        vertical-align: middle;\n",
       "    }\n",
       "\n",
       "    .dataframe tbody tr th {\n",
       "        vertical-align: top;\n",
       "    }\n",
       "\n",
       "    .dataframe thead th {\n",
       "        text-align: right;\n",
       "    }\n",
       "</style>\n",
       "<table border=\"1\" class=\"dataframe\">\n",
       "  <thead>\n",
       "    <tr style=\"text-align: right;\">\n",
       "      <th></th>\n",
       "      <th>TrainingJobStatus</th>\n",
       "      <th>TrainingTimeInSeconds</th>\n",
       "      <th>InstanceType</th>\n",
       "      <th>ManifestLocation</th>\n",
       "      <th>job_name</th>\n",
       "      <th>PercentageDataTrainedOn</th>\n",
       "      <th>CPUUtilization</th>\n",
       "      <th>I/OWaitPercentage</th>\n",
       "      <th>MemoryUsedPercent</th>\n",
       "      <th>GPUUtilization</th>\n",
       "      <th>GPUMemoryUtilization</th>\n",
       "    </tr>\n",
       "  </thead>\n",
       "  <tbody>\n",
       "    <tr>\n",
       "      <th>0</th>\n",
       "      <td>Completed</td>\n",
       "      <td>107</td>\n",
       "      <td>ml.m5.2xlarge</td>\n",
       "      <td>s3://sagemaker-us-east-1-111918798052/syntheti...</td>\n",
       "      <td>canary-training--job-2022-03-22-18-50-24-03891...</td>\n",
       "      <td>0.01</td>\n",
       "      <td>12.5</td>\n",
       "      <td>95.920</td>\n",
       "      <td>5.1600</td>\n",
       "      <td>-1.0</td>\n",
       "      <td>-1</td>\n",
       "    </tr>\n",
       "    <tr>\n",
       "      <th>1</th>\n",
       "      <td>Completed</td>\n",
       "      <td>108</td>\n",
       "      <td>ml.m5.2xlarge</td>\n",
       "      <td>s3://sagemaker-us-east-1-111918798052/syntheti...</td>\n",
       "      <td>canary-training--job-2022-03-22-18-50-25-01037...</td>\n",
       "      <td>0.01</td>\n",
       "      <td>12.5</td>\n",
       "      <td>95.830</td>\n",
       "      <td>5.1719</td>\n",
       "      <td>-1.0</td>\n",
       "      <td>-1</td>\n",
       "    </tr>\n",
       "    <tr>\n",
       "      <th>2</th>\n",
       "      <td>Completed</td>\n",
       "      <td>108</td>\n",
       "      <td>ml.m5.2xlarge</td>\n",
       "      <td>s3://sagemaker-us-east-1-111918798052/syntheti...</td>\n",
       "      <td>canary-training--job-2022-03-22-18-50-27-01384...</td>\n",
       "      <td>0.01</td>\n",
       "      <td>12.5</td>\n",
       "      <td>95.920</td>\n",
       "      <td>5.2100</td>\n",
       "      <td>-1.0</td>\n",
       "      <td>-1</td>\n",
       "    </tr>\n",
       "    <tr>\n",
       "      <th>3</th>\n",
       "      <td>Completed</td>\n",
       "      <td>118</td>\n",
       "      <td>ml.m5.2xlarge</td>\n",
       "      <td>s3://sagemaker-us-east-1-111918798052/syntheti...</td>\n",
       "      <td>canary-training--job-2022-03-22-18-50-28-09765...</td>\n",
       "      <td>0.02</td>\n",
       "      <td>12.5</td>\n",
       "      <td>94.120</td>\n",
       "      <td>5.5100</td>\n",
       "      <td>-1.0</td>\n",
       "      <td>-1</td>\n",
       "    </tr>\n",
       "    <tr>\n",
       "      <th>4</th>\n",
       "      <td>Completed</td>\n",
       "      <td>119</td>\n",
       "      <td>ml.m5.2xlarge</td>\n",
       "      <td>s3://sagemaker-us-east-1-111918798052/syntheti...</td>\n",
       "      <td>canary-training--job-2022-03-22-18-50-28-00009...</td>\n",
       "      <td>0.02</td>\n",
       "      <td>12.5</td>\n",
       "      <td>94.078</td>\n",
       "      <td>5.5700</td>\n",
       "      <td>-1.0</td>\n",
       "      <td>-1</td>\n",
       "    </tr>\n",
       "  </tbody>\n",
       "</table>\n",
       "</div>"
      ],
      "text/plain": [
       "  TrainingJobStatus  TrainingTimeInSeconds   InstanceType  \\\n",
       "0         Completed                    107  ml.m5.2xlarge   \n",
       "1         Completed                    108  ml.m5.2xlarge   \n",
       "2         Completed                    108  ml.m5.2xlarge   \n",
       "3         Completed                    118  ml.m5.2xlarge   \n",
       "4         Completed                    119  ml.m5.2xlarge   \n",
       "\n",
       "                                    ManifestLocation  \\\n",
       "0  s3://sagemaker-us-east-1-111918798052/syntheti...   \n",
       "1  s3://sagemaker-us-east-1-111918798052/syntheti...   \n",
       "2  s3://sagemaker-us-east-1-111918798052/syntheti...   \n",
       "3  s3://sagemaker-us-east-1-111918798052/syntheti...   \n",
       "4  s3://sagemaker-us-east-1-111918798052/syntheti...   \n",
       "\n",
       "                                            job_name PercentageDataTrainedOn  \\\n",
       "0  canary-training--job-2022-03-22-18-50-24-03891...                    0.01   \n",
       "1  canary-training--job-2022-03-22-18-50-25-01037...                    0.01   \n",
       "2  canary-training--job-2022-03-22-18-50-27-01384...                    0.01   \n",
       "3  canary-training--job-2022-03-22-18-50-28-09765...                    0.02   \n",
       "4  canary-training--job-2022-03-22-18-50-28-00009...                    0.02   \n",
       "\n",
       "   CPUUtilization  I/OWaitPercentage  MemoryUsedPercent  GPUUtilization  \\\n",
       "0            12.5             95.920             5.1600            -1.0   \n",
       "1            12.5             95.830             5.1719            -1.0   \n",
       "2            12.5             95.920             5.2100            -1.0   \n",
       "3            12.5             94.120             5.5100            -1.0   \n",
       "4            12.5             94.078             5.5700            -1.0   \n",
       "\n",
       "   GPUMemoryUtilization  \n",
       "0                    -1  \n",
       "1                    -1  \n",
       "2                    -1  \n",
       "3                    -1  \n",
       "4                    -1  "
      ]
     },
     "execution_count": 12,
     "metadata": {},
     "output_type": "execute_result"
    }
   ],
   "source": [
    "raw_actual_resource_usage_df.head()"
   ]
  },
  {
   "cell_type": "markdown",
   "id": "analyzed-personal",
   "metadata": {},
   "source": [
    "## (Optional) Lets now kick off the actual training full job.\n",
    "If you wish, feel free to kick off the entire training job to check the results.\n",
    "\n",
    "**NOTE** This training job takes around 33 minutes (2000 seconds) to run."
   ]
  },
  {
   "cell_type": "code",
   "execution_count": null,
   "id": "daily-layout",
   "metadata": {},
   "outputs": [],
   "source": [
    "#estimator.instance_type=\"ml.m5.2xlarge\"\n",
    "#content_type = \"csv\"\n",
    "#train_input = data_location\n",
    "#validation_input = data_location\n",
    "#train_input=sagemaker.inputs.TrainingInput(train_input,content_type='csv')\n",
    "#validation_input=sagemaker.inputs.TrainingInput(validation_input,content_type='csv')\n",
    "#job_name=job_name=f\"full-training--job-{strftime('%Y-%m-%d-%H-%M-%S', gmtime())}-{str(random.random())}\".replace(\".\",\"\")\n",
    "#estimator.fit(inputs={'train': train_input, 'validation': validation_input},job_name=job_name,wait=False,logs=\"All\")"
   ]
  }
 ],
 "metadata": {
  "instance_type": "ml.m5.large",
  "kernelspec": {
   "display_name": "Python 3",
   "language": "python",
   "name": "python3"
  },
  "language_info": {
   "codemirror_mode": {
    "name": "ipython",
    "version": 3
   },
   "file_extension": ".py",
   "mimetype": "text/x-python",
   "name": "python",
   "nbconvert_exporter": "python",
   "pygments_lexer": "ipython3",
   "version": "3.7.9"
  }
 },
 "nbformat": 4,
 "nbformat_minor": 5
}
